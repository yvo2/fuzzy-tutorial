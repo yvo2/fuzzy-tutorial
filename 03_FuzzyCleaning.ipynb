{
 "cells": [
  {
   "cell_type": "markdown",
   "metadata": {},
   "source": [
    "# Fuzzy Cleaning Systems: The Cleaner Solution to your Comfort\n",
    "\n",
    "Cleaning systems are commonly used to steer robotic support enteties like vacuum cleaners with or without wet cleaning. The used, clean/dirty segmentation approach faces several problems due to it's inability to notice different factors that humans encounter when thinking of a \"clean\" flat or home.\n",
    "\n",
    "Based on Fuzzy Control Systems, we can build an adapted system for Fuzzy cleaning."
   ]
  },
  {
   "cell_type": "code",
   "execution_count": null,
   "metadata": {},
   "outputs": [],
   "source": [
    "import numpy as np\n",
    "import skfuzzy as fuzz\n",
    "from skfuzzy import control as ctrl\n",
    "\n",
    "# New Antecedent/Consequent objects for the cleaning problem\n",
    "dirtiness = ctrl.Antecedent(np.arange(0, 11, 1), 'dirtiness')  # Level of dirtiness from 0 (clean) to 10 (very dirty)\n",
    "room_size = ctrl.Antecedent(np.arange(0, 101, 1), 'room_size')  # Size of the room in square meters\n",
    "cleaning_intensity = ctrl.Consequent(np.arange(0, 101, 1), 'cleaning_intensity')  # Cleaning intensity from 0 to 100%\n",
    "\n",
    "# Auto-membership function population for dirtiness and room_size (low, medium, high)\n",
    "dirtiness.automf(3)\n",
    "room_size.automf(3)\n",
    "\n",
    "# Custom membership functions for cleaning intensity (low, medium, high)\n",
    "cleaning_intensity['low'] = fuzz.trimf(cleaning_intensity.universe, [0, 0, 50])\n",
    "cleaning_intensity['medium'] = fuzz.trimf(cleaning_intensity.universe, [25, 50, 75])\n",
    "cleaning_intensity['high'] = fuzz.trimf(cleaning_intensity.universe, [50, 100, 100])\n",
    "\n",
    "# Define the rules for controlling cleaning intensity based on dirtiness and room size\n",
    "rule1 = ctrl.Rule(dirtiness['poor'] | room_size['poor'], cleaning_intensity['low'])\n",
    "rule2 = ctrl.Rule(dirtiness['average'] & room_size['average'], cleaning_intensity['medium'])\n",
    "rule3 = ctrl.Rule(dirtiness['good'] | room_size['good'], cleaning_intensity['high'])\n",
    "\n",
    "# Create a control system and simulation\n",
    "cleaning_ctrl = ctrl.ControlSystem([rule1, rule2, rule3])\n",
    "cleaning_simulation = ctrl.ControlSystemSimulation(cleaning_ctrl)\n",
    "\n",
    "# Set input values for dirtiness and room_size\n",
    "cleaning_simulation.input['dirtiness'] = 7  # Example: moderately dirty\n",
    "cleaning_simulation.input['room_size'] = 30  # Example: a small room\n",
    "\n",
    "# Compute the cleaning intensity based on inputs\n",
    "cleaning_simulation.compute()\n",
    "\n",
    "# Output the result\n",
    "print(f\"Recommended cleaning intensity: {cleaning_simulation.output['cleaning_intensity']}\")\n",
    "\n",
    "# Visualize the membership functions (optional)\n",
    "dirtiness.view()\n",
    "room_size.view()\n",
    "cleaning_intensity.view()\n"
   ]
  },
  {
   "cell_type": "markdown",
   "metadata": {},
   "source": [
    "# Fuzzy Rules for Cleaning Intensity\n",
    "\n",
    "To make these fuzzy membership functions useful, we define the fuzzy relationships between the input (dirtiness and room size) and the output (cleaning intensity). For the purposes of our example, consider three simple rules:\n",
    "\n",
    "1. **If the dirtiness is poor OR the room size is small, then the cleaning intensity will be low.**\n",
    "2. **If the dirtiness is average AND the room size is medium, then the cleaning intensity will be medium.**\n",
    "3. **If the dirtiness is high OR the room size is large, then the cleaning intensity will be high.**\n",
    "\n",
    "These rules mirror how we would expect a robot vacuum to adjust its cleaning effort based on the condition of the room. However, the rules are inherently fuzzy—mapping these imprecise conditions into a well-defined cleaning intensity is where fuzzy logic excels. It helps bridge the gap between vague inputs and actionable cleaning strategies."
   ]
  },
  {
   "cell_type": "code",
   "execution_count": null,
   "metadata": {},
   "outputs": [],
   "source": [
    "# Define the fuzzy rules for cleaning intensity\n",
    "rule1 = ctrl.Rule(dirtiness['poor'] | room_size['poor'], cleaning_intensity['low'])  # If dirtiness is low OR room is small, cleaning intensity is low\n",
    "rule2 = ctrl.Rule(dirtiness['average'] & room_size['average'], cleaning_intensity['medium'])  # If dirtiness is average AND room size is medium, cleaning intensity is medium\n",
    "rule3 = ctrl.Rule(dirtiness['good'] | room_size['good'], cleaning_intensity['high'])  # If dirtiness is high OR room is large, cleaning intensity is high\n",
    "\n",
    "# Visualize one of the rules (optional)\n",
    "rule1.view()"
   ]
  },
  {
   "cell_type": "markdown",
   "metadata": {},
   "source": [
    "# Control System Creation and Simulation\n",
    "\n",
    "Now that we have our rules defined, we can simply create a control system via:"
   ]
  },
  {
   "cell_type": "code",
   "execution_count": null,
   "metadata": {},
   "outputs": [],
   "source": [
    "cleaning_ctrl = ctrl.ControlSystem([rule1, rule2, rule3])"
   ]
  },
  {
   "cell_type": "markdown",
   "metadata": {},
   "source": [
    "In order to simulate this control system, we will create a ControlSystemSimulation. Think of this object as representing our controller applied to a specific set of cleaning conditions. For cleaning, this might be for a small, lightly soiled living room. We would create another ControlSystemSimulation when we’re trying to apply our cleaning_ctrl for a large, heavily soiled kitchen, because the inputs (dirtiness and room size) would be different."
   ]
  },
  {
   "cell_type": "code",
   "execution_count": null,
   "metadata": {},
   "outputs": [],
   "source": [
    "cleaning = ctrl.ControlSystemSimulation(cleaning_ctrl)"
   ]
  },
  {
   "cell_type": "markdown",
   "metadata": {},
   "source": [
    "We can now simulate our control system by simply specifying the inputs and calling the compute method. Suppose the room has a dirtiness level of 7 out of 10 and the room size is 30 square meters."
   ]
  },
  {
   "cell_type": "code",
   "execution_count": null,
   "metadata": {},
   "outputs": [],
   "source": [
    "# Pass inputs to the ControlSystem using Antecedent labels with Pythonic API\n",
    "# Note: if you prefer passing many inputs all at once, use .inputs(dict_of_data)\n",
    "cleaning_simulation.input['dirtiness'] = 7  # Example: moderately dirty room\n",
    "cleaning_simulation.input['room_size'] = 30  # Example: room size in square meters\n",
    "\n",
    "# Crunch the numbers\n",
    "cleaning_simulation.compute()\n",
    "\n",
    "# Once computed, we can view the result as well as visualize it.\n",
    "print(f\"Recommended cleaning intensity: {cleaning_simulation.output['cleaning_intensity']}\")\n",
    "cleaning_intensity.view(sim=cleaning_simulation)"
   ]
  },
  {
   "cell_type": "markdown",
   "metadata": {},
   "source": [
    "# Defuzzification\n",
    "\n",
    "Fuzzy logic calculations are excellent tools, but to use them the fuzzy result must be converted back into a single number. This is known as defuzzification.\n",
    "There are several possible methods for defuzzification, exposed via skfuzzy.defuzz."
   ]
  },
  {
   "cell_type": "code",
   "execution_count": null,
   "metadata": {},
   "outputs": [],
   "source": [
    "import matplotlib.pyplot as plt\n",
    "\n",
    "# Generate trapezoidal membership function on range [0, 10] for dirtiness\n",
    "x = np.arange(0, 10.05, 0.1)\n",
    "mfx = fuzz.trapmf(x, [2, 3, 7, 9])  # Example trapezoidal membership function for dirtiness levels\n",
    "\n",
    "# Defuzzify this membership function five ways\n",
    "defuzz_centroid = fuzz.defuzz(x, mfx, 'centroid')  # Same as skfuzzy.centroid\n",
    "defuzz_bisector = fuzz.defuzz(x, mfx, 'bisector')\n",
    "defuzz_mom = fuzz.defuzz(x, mfx, 'mom')\n",
    "defuzz_som = fuzz.defuzz(x, mfx, 'som')\n",
    "defuzz_lom = fuzz.defuzz(x, mfx, 'lom')\n",
    "\n",
    "# Collect info for vertical lines\n",
    "labels = ['centroid', 'bisector', 'mean of maximum', 'min of maximum', 'max of maximum']\n",
    "xvals = [defuzz_centroid, defuzz_bisector, defuzz_mom, defuzz_som, defuzz_lom]\n",
    "colors = ['r', 'b', 'g', 'c', 'm']\n",
    "ymax = [fuzz.interp_membership(x, mfx, i) for i in xvals]\n",
    "\n",
    "# Display and compare defuzzification results against membership function\n",
    "plt.figure(figsize=(8, 5))\n",
    "\n",
    "plt.plot(x, mfx, 'k')\n",
    "for xv, y, label, color in zip(xvals, ymax, labels, colors):\n",
    "    plt.vlines(xv, 0, y, label=label, color=color)\n",
    "plt.ylabel('Fuzzy membership')\n",
    "plt.xlabel('Dirtiness level (0 to 10)')\n",
    "plt.ylim(-0.1, 1.1)\n",
    "plt.legend(loc=2)\n",
    "\n",
    "plt.show()"
   ]
  }
 ],
 "metadata": {
  "kernelspec": {
   "display_name": "Python 3 (ipykernel)",
   "language": "python",
   "name": "python3"
  },
  "language_info": {
   "codemirror_mode": {
    "name": "ipython",
    "version": 3
   },
   "file_extension": ".py",
   "mimetype": "text/x-python",
   "name": "python",
   "nbconvert_exporter": "python",
   "pygments_lexer": "ipython3",
   "version": "3.9.20"
  }
 },
 "nbformat": 4,
 "nbformat_minor": 4
}
